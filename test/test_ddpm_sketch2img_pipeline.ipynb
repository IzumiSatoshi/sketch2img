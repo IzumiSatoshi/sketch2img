{
 "cells": [
  {
   "cell_type": "code",
   "execution_count": 1,
   "metadata": {},
   "outputs": [],
   "source": [
    "import torch\n",
    "import torchvision\n",
    "import matplotlib.pyplot as plt\n",
    "from PIL import Image\n",
    "import numpy as np\n",
    "import cv2\n",
    "import random\n",
    "# mine\n",
    "import sys\n",
    "sys.path.append(\"../src\")\n",
    "from pipeline_ddpm_sketch2img import DDPMSketch2ImgPipeline"
   ]
  },
  {
   "cell_type": "code",
   "execution_count": 2,
   "metadata": {},
   "outputs": [
    {
     "data": {
      "text/plain": [
       "<torch._C.Generator at 0x1c2fbf09bf0>"
      ]
     },
     "execution_count": 2,
     "metadata": {},
     "output_type": "execute_result"
    }
   ],
   "source": [
    "seed = 0\n",
    "random.seed(seed)\n",
    "np.random.seed(seed)\n",
    "torch.manual_seed(seed)"
   ]
  },
  {
   "cell_type": "code",
   "execution_count": 3,
   "metadata": {},
   "outputs": [],
   "source": [
    "pipe = DDPMSketch2ImgPipeline.from_pretrained(\"../model/from_init_test\").to(\"cuda\")\n",
    "dataset = torchvision.datasets.FashionMNIST(\"../data/FashionMNIST\", download=False)"
   ]
  },
  {
   "cell_type": "code",
   "execution_count": 4,
   "metadata": {},
   "outputs": [],
   "source": [
    "image_np = dataset.data[0].numpy()\n",
    "image_pil = Image.fromarray(image_np)\n",
    "sketch_np = cv2.Canny(image_np, 200, 200)\n",
    "sketch_pil = Image.fromarray(sketch_np)\n",
    "image_tensor = torch.from_numpy(image_np).unsqueeze(0).float()\n",
    "sketch_tensor = torch.from_numpy(sketch_np).unsqueeze(0).float()"
   ]
  },
  {
   "cell_type": "code",
   "execution_count": 5,
   "metadata": {},
   "outputs": [
    {
     "name": "stdout",
     "output_type": "stream",
     "text": [
      "False\n"
     ]
    },
    {
     "data": {
      "image/png": "[encoded data removed]",
      "text/plain": [
       "<Figure size 640x480 with 2 Axes>"
      ]
     },
     "metadata": {},
     "output_type": "display_data"
    }
   ],
   "source": [
    "round_trip = pipe.denormalize(pipe.normalize(image_tensor))\n",
    "fig, axs = plt.subplots(1,2)\n",
    "\n",
    "axs[0].set_title(\"original\")\n",
    "axs[0].imshow(image_tensor[0], \"gray\")\n",
    "\n",
    "axs[1].set_title(\"transformed then invert transformed\")\n",
    "axs[1].imshow(round_trip[0], \"gray\")\n",
    "\n",
    "# Why are the numbers slightly different?\n",
    "print(torch.equal(pipe.denormalize(pipe.normalize(image_tensor)), image_tensor))"
   ]
  },
  {
   "cell_type": "code",
   "execution_count": 6,
   "metadata": {},
   "outputs": [
    {
     "name": "stderr",
     "output_type": "stream",
     "text": [
      "100%|██████████| 1000/1000 [00:16<00:00, 61.01it/s]\n"
     ]
    },
    {
     "ename": "AssertionError",
     "evalue": "(c, h, w) but torch.Size([1, 1, 28, 28])",
     "output_type": "error",
     "traceback": [
      "\u001b[1;31m---------------------------------------------------------------------------\u001b[0m",
      "\u001b[1;31mAssertionError\u001b[0m                            Traceback (most recent call last)",
      "Cell \u001b[1;32mIn[6], line 1\u001b[0m\n\u001b[1;32m----> 1\u001b[0m generated_image_pil \u001b[39m=\u001b[39m pipe(sketch_pil)\n\u001b[0;32m      2\u001b[0m fig, axs \u001b[39m=\u001b[39m plt\u001b[39m.\u001b[39msubplots(\u001b[39m1\u001b[39m,\u001b[39m3\u001b[39m)\n\u001b[0;32m      4\u001b[0m axs[\u001b[39m0\u001b[39m]\u001b[39m.\u001b[39mset_title(\u001b[39m\"\u001b[39m\u001b[39mimage\u001b[39m\u001b[39m\"\u001b[39m)\n",
      "File \u001b[1;32me:\\Projects\\sketch2img\\test\\../src\\pipeline_ddpm_sketch2img.py:26\u001b[0m, in \u001b[0;36mDDPMSketch2ImgPipeline.__call__\u001b[1;34m(self, sketch, num_inference_step, tqdm_leave)\u001b[0m\n\u001b[0;32m     24\u001b[0m image\u001b[39m.\u001b[39msqueeze(\u001b[39m0\u001b[39m)\n\u001b[0;32m     25\u001b[0m image \u001b[39m=\u001b[39m \u001b[39mself\u001b[39m\u001b[39m.\u001b[39mdenormalize(image)\n\u001b[1;32m---> 26\u001b[0m image \u001b[39m=\u001b[39m \u001b[39mself\u001b[39;49m\u001b[39m.\u001b[39;49mdenormalized_tensor_to_pil(image)\n\u001b[0;32m     28\u001b[0m \u001b[39mreturn\u001b[39;00m image\n",
      "File \u001b[1;32me:\\Projects\\sketch2img\\test\\../src\\pipeline_ddpm_sketch2img.py:55\u001b[0m, in \u001b[0;36mDDPMSketch2ImgPipeline.denormalized_tensor_to_pil\u001b[1;34m(self, tensor)\u001b[0m\n\u001b[0;32m     54\u001b[0m \u001b[39mdef\u001b[39;00m \u001b[39mdenormalized_tensor_to_pil\u001b[39m(\u001b[39mself\u001b[39m, tensor):\n\u001b[1;32m---> 55\u001b[0m     \u001b[39massert\u001b[39;00m \u001b[39mlen\u001b[39m(tensor\u001b[39m.\u001b[39mshape) \u001b[39m==\u001b[39m \u001b[39m3\u001b[39m, \u001b[39mf\u001b[39m\u001b[39m\"\u001b[39m\u001b[39m(c, h, w) but \u001b[39m\u001b[39m{\u001b[39;00mtensor\u001b[39m.\u001b[39mshape\u001b[39m}\u001b[39;00m\u001b[39m\"\u001b[39m\n\u001b[0;32m     57\u001b[0m     tensor \u001b[39m=\u001b[39m tensor\u001b[39m.\u001b[39mcpu()\u001b[39m.\u001b[39mclip(\u001b[39m0\u001b[39m, \u001b[39m255\u001b[39m)\u001b[39m.\u001b[39mto(torch\u001b[39m.\u001b[39muint8)\n\u001b[0;32m     58\u001b[0m     pil \u001b[39m=\u001b[39m transforms\u001b[39m.\u001b[39mfunctional\u001b[39m.\u001b[39mto_pil_image(tensor)\n",
      "\u001b[1;31mAssertionError\u001b[0m: (c, h, w) but torch.Size([1, 1, 28, 28])"
     ]
    }
   ],
   "source": [
    "generated_image_pil = pipe(sketch_pil)\n",
    "fig, axs = plt.subplots(1,3)\n",
    "\n",
    "axs[0].set_title(\"image\")\n",
    "axs[0].imshow(image_pil, \"gray\")\n",
    "\n",
    "axs[1].set_title(\"sketch\")\n",
    "axs[1].imshow(sketch_pil, \"gray\")\n",
    "\n",
    "axs[2].set_title(\"generated\")\n",
    "axs[2].imshow(generated_image_pil, \"gray\")"
   ]
  }
 ],
 "metadata": {
  "kernelspec": {
   "display_name": "torch",
   "language": "python",
   "name": "python3"
  },
  "language_info": {
   "codemirror_mode": {
    "name": "ipython",
    "version": 3
   },
   "file_extension": ".py",
   "mimetype": "text/x-python",
   "name": "python",
   "nbconvert_exporter": "python",
   "pygments_lexer": "ipython3",
   "version": "3.10.7"
  },
  "orig_nbformat": 4,
  "vscode": {
   "interpreter": {
    "hash": "79091f8df886e111703d2034356509b2014a606bf4ba6033bd359d74a62ece83"
   }
  }
 },
 "nbformat": 4,
 "nbformat_minor": 2
}
